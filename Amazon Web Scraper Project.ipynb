{
 "cells": [
  {
   "cell_type": "code",
   "execution_count": 1,
   "id": "1d5f315c",
   "metadata": {},
   "outputs": [],
   "source": [
    "#import libraries\n",
    "from bs4 import BeautifulSoup\n",
    "import requests\n",
    "import smtplib\n",
    "import time\n",
    "import datetime\n"
   ]
  },
  {
   "cell_type": "code",
   "execution_count": 39,
   "id": "7ab4921f",
   "metadata": {},
   "outputs": [
    {
     "name": "stdout",
     "output_type": "stream",
     "text": [
      "\n",
      "                    £11.95\n",
      "                   \n",
      "\n",
      "\n",
      "                    Heatwave® Pack of 2 Men's Thermal Long Sleeve Top, Warm Underwear Baselayer, S M L XL XXL Thermals\n",
      "                   \n",
      "\n"
     ]
    }
   ],
   "source": [
    "#connecting to the website\n",
    "\n",
    "URL = 'https://www.amazon.co.uk/Heatwave%C2%AE-Thermal-Underwear-Baselayer-Thermals/dp/B01LZO0LAY/ref=zg_bs_g_fashion_sccl_6/262-1748515-3952963?psc=1'\n",
    "\n",
    "headers = {\"User-Agent\": \"Mozilla/5.0 (Macintosh; Intel Mac OS X 10_15_7) AppleWebKit/537.36 (KHTML, like Gecko) Chrome/119.0.0.0 Safari/537.36\", \"Accept-Encoding\":\"gzip, deflate\", \"Accept\":\"text/html,application/xhtml+xml,application/xml;q=0.9,*/*;q=0.8\", \"DNT\":\"1\",\"Connection\":\"close\", \"Upgrade-Insecure-Requests\":\"1\"}\n",
    "\n",
    "page = requests.get(URL, headers=headers)\n",
    "\n",
    "soup1 = BeautifulSoup(page.content, \"html.parser\")\n",
    "\n",
    "soup2 = BeautifulSoup(soup1.prettify(),\"html.parser\")\n",
    "\n",
    "#getting the title of the product\n",
    "\n",
    "title = soup2.find(id='title').get_text()\n",
    "\n",
    "#getting the price\n",
    "\n",
    "results = soup2.find_all('div', attrs={'id': 'corePriceDisplay_desktop_feature_div'})\n",
    "\n",
    "for r in results:\n",
    "    price = (r.select_one('.aok-offscreen').text)\n",
    "    \n",
    "print(price)\n",
    "\n",
    "print(title)"
   ]
  },
  {
   "cell_type": "code",
   "execution_count": 42,
   "id": "54eeb512",
   "metadata": {},
   "outputs": [],
   "source": [
    "price = price.strip()[1:]"
   ]
  },
  {
   "cell_type": "code",
   "execution_count": 43,
   "id": "1d2f3819",
   "metadata": {},
   "outputs": [],
   "source": [
    "title = title.strip()"
   ]
  },
  {
   "cell_type": "code",
   "execution_count": 46,
   "id": "353ae692",
   "metadata": {},
   "outputs": [
    {
     "name": "stdout",
     "output_type": "stream",
     "text": [
      "11.95\n",
      "Heatwave® Pack of 2 Men's Thermal Long Sleeve Top, Warm Underwear Baselayer, S M L XL XXL Thermals\n"
     ]
    },
    {
     "data": {
      "text/plain": [
       "str"
      ]
     },
     "execution_count": 46,
     "metadata": {},
     "output_type": "execute_result"
    }
   ],
   "source": [
    "#^cleaning both the price and title \n",
    "\n",
    "print(price)\n",
    "print(title)"
   ]
  },
  {
   "cell_type": "code",
   "execution_count": 54,
   "id": "889a277c",
   "metadata": {},
   "outputs": [
    {
     "name": "stdout",
     "output_type": "stream",
     "text": [
      "2023-12-07\n"
     ]
    }
   ],
   "source": [
    "#getting a date stamp for the data\n",
    "\n",
    "today = datetime.date.today()\n",
    "print(today)"
   ]
  },
  {
   "cell_type": "code",
   "execution_count": 57,
   "id": "44f56b53",
   "metadata": {},
   "outputs": [],
   "source": [
    "#creating an excel / csv file to collect the data\n",
    "\n",
    "import csv\n",
    "\n",
    "header = ['Title', 'Price', 'Date']\n",
    "data = [title, price, today]\n",
    "\n",
    "#next 4 lines of code to be commented out after being ran once to not overwrite data pulled if ever needing to restart process and re run automation\n",
    "\n",
    "with open('AmazonWebScraperDataset.csv', 'w', newline='', encoding='UTF8') as f:\n",
    "    writer = csv.writer(f)\n",
    "    writer.writerow(header)\n",
    "    writer.writerow(data)\n",
    "    \n",
    "\n"
   ]
  },
  {
   "cell_type": "code",
   "execution_count": 55,
   "id": "2f5cd52b",
   "metadata": {},
   "outputs": [],
   "source": [
    "import pandas as pd"
   ]
  },
  {
   "cell_type": "code",
   "execution_count": 58,
   "id": "9651acc8",
   "metadata": {},
   "outputs": [
    {
     "name": "stdout",
     "output_type": "stream",
     "text": [
      "                                               Title  Price        Date\n",
      "0  Heatwave® Pack of 2 Men's Thermal Long Sleeve ...  11.95  2023-12-07\n"
     ]
    }
   ],
   "source": [
    "df = pd.read_csv('/Users/peter/AmazonWebScraperDataset.csv')\n",
    "print(df)"
   ]
  },
  {
   "cell_type": "code",
   "execution_count": 59,
   "id": "f74728e3",
   "metadata": {},
   "outputs": [],
   "source": [
    "#appending the file to add more data\n",
    "\n",
    "with open('AmazonWebScraperDataset.csv', 'a+', newline='', encoding='UTF8') as f:\n",
    "    writer = csv.writer(f)\n",
    "    writer.writerow(data)\n",
    "    \n",
    "#creating a function     \n",
    "    \n",
    "def check_price():\n",
    "    URL = 'https://www.amazon.co.uk/Heatwave%C2%AE-Thermal-Underwear-Baselayer-Thermals/dp/B01LZO0LAY/ref=zg_bs_g_fashion_sccl_6/262-1748515-3952963?psc=1'\n",
    "\n",
    "    headers = {\"User-Agent\": \"Mozilla/5.0 (Macintosh; Intel Mac OS X 10_15_7) AppleWebKit/537.36 (KHTML, like Gecko) Chrome/119.0.0.0 Safari/537.36\", \"Accept-Encoding\":\"gzip, deflate\", \"Accept\":\"text/html,application/xhtml+xml,application/xml;q=0.9,*/*;q=0.8\", \"DNT\":\"1\",\"Connection\":\"close\", \"Upgrade-Insecure-Requests\":\"1\"}\n",
    "\n",
    "    page = requests.get(URL, headers=headers)\n",
    "\n",
    "    soup1 = BeautifulSoup(page.content, \"html.parser\")\n",
    "\n",
    "    soup2 = BeautifulSoup(soup1.prettify(),\"html.parser\")\n",
    "\n",
    "    #getting the title of the product\n",
    "\n",
    "    title = soup2.find(id='title').get_text()\n",
    "\n",
    "    #getting the price\n",
    "\n",
    "    results = soup2.find_all('div', attrs={'id': 'corePriceDisplay_desktop_feature_div'})\n",
    "\n",
    "    for r in results:\n",
    "        price = (r.select_one('.aok-offscreen').text)\n",
    "        \n",
    "    title = title.strip()\n",
    "    price = price.strip()[1:]\n",
    "    today = datetime.date.today()\n",
    "   \n",
    "    \n",
    "    header = ['Title', 'Price', 'Date']\n",
    "    data = [title, price, today]\n",
    "    \n",
    "    with open('AmazonWebScraperDataset.csv', 'a+', newline='', encoding='UTF8') as f:\n",
    "        writer = csv.writer(f)\n",
    "        writer.writerow(data)\n",
    "        \n",
    "#if wanting to send emails then use an if on price, followed by calling the email function \n",
    "#if(price < 10):\n",
    "#send_mail()"
   ]
  },
  {
   "cell_type": "code",
   "execution_count": null,
   "id": "79f44f4f",
   "metadata": {},
   "outputs": [],
   "source": [
    "#automation of pulling the price and title every day if left in background\n",
    "\n",
    "while(True):\n",
    "    check_price()\n",
    "    time.sleep(86400)"
   ]
  },
  {
   "cell_type": "code",
   "execution_count": null,
   "id": "86f21642",
   "metadata": {},
   "outputs": [],
   "source": [
    "#defining the function for sending the email. establishing the use of gmail, the server logic, elements of the email\n",
    "\n",
    "#def send_mail():\n",
    "#    server = smtplib.SMTP_SSL('smtp.gmail.com',465)\n",
    "#    server.ehlo()\n",
    "#    #server.starttls()\n",
    "#    server.ehlo()\n",
    "#    server.login('Your email','Your password')\n",
    "#    \n",
    "#    subject = \"The product you are tracking has been discounted to x price\"\n",
    "#    body = \"The product you are tracking has been discounted, follow the link ___ to buy\"\n",
    "#   \n",
    "#    msg = f\"Subject: {subject}\\n\\n{body}\"\n",
    "#    \n",
    "#    server.sendmail(\n",
    "#        'your email',\n",
    "#        msg\n",
    "#     \n",
    "#    )"
   ]
  }
 ],
 "metadata": {
  "kernelspec": {
   "display_name": "Python 3 (ipykernel)",
   "language": "python",
   "name": "python3"
  },
  "language_info": {
   "codemirror_mode": {
    "name": "ipython",
    "version": 3
   },
   "file_extension": ".py",
   "mimetype": "text/x-python",
   "name": "python",
   "nbconvert_exporter": "python",
   "pygments_lexer": "ipython3",
   "version": "3.11.5"
  }
 },
 "nbformat": 4,
 "nbformat_minor": 5
}
